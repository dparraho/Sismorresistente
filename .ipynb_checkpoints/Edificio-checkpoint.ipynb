{
 "cells": [
  {
   "cell_type": "code",
   "execution_count": 1,
   "metadata": {},
   "outputs": [],
   "source": [
    "%matplotlib inline\n",
    "import pandas as pd\n",
    "from numpy import cos, sin, array,radians\n",
    "import numpy as np\n",
    "import matplotlib.pyplot as plt\n",
    "import re\n",
    "regex = re.compile('[^a-zA-Z]')\n",
    "import string \n",
    "alphabet = string.ascii_letters"
   ]
  },
  {
   "cell_type": "code",
   "execution_count": 2,
   "metadata": {},
   "outputs": [],
   "source": [
    "def aportan_a_nodo(Nodo):    \n",
    "    xjs = [Nodo[0]] + [Nodo[0]+1]\n",
    "    yis = [Nodo[1]-1] + [Nodo[1]]\n",
    "    try:\n",
    "        del ady_horizontal, below_vertical, above_vertical\n",
    "    except:pass\n",
    "\n",
    "    try:\n",
    "        ady_horizontal = horizontal[int(np.array(list(range(len(horizontal))))[NivelHorizontal=='Nivel %d'%Nodo[1]])]\n",
    "    except:pass\n",
    "\n",
    "    try:\n",
    "        above_vertical = vertical[int(np.array(list(range(len(vertical))))[NivelVertical=='Nivel %d'%(Nodo[1])])]\n",
    "    except:pass\n",
    "    \n",
    "    try:\n",
    "        below_vertical = vertical[int(np.array(list(range(len(vertical))))[NivelVertical=='Nivel %d'%(Nodo[1]-1)])]\n",
    "        \n",
    "    except:pass\n",
    "\n",
    "    aportan = []\n",
    "    columns = []\n",
    "    try:\n",
    "        df_aportan = ady_horizontal[(ady_horizontal['Xj'].values==xjs[0])|(ady_horizontal['Xj'].values==xjs[1])]\n",
    "        c = 0\n",
    "        for i, row in df_aportan.iterrows():\n",
    "            columns.append((['j', df_aportan['N'].values[c]] if Nodo[0]==row['Xj'] else ['i', df_aportan['N'].values[c]]) + [int(df_aportan['Nodo i'].values[c]), int(df_aportan['Nodo j'].values[c])])\n",
    "            c+=1\n",
    "        aportan.append(df_aportan)\n",
    "    except:pass\n",
    "\n",
    "    try:\n",
    "        df_aportan = above_vertical[(above_vertical['Xi'].values==Nodo[0])]\n",
    "        aportan.append(df_aportan)\n",
    "        columns.append(['j', int(df_aportan['N'].values), int(df_aportan['Nodo i'].values), int(df_aportan['Nodo j'].values)])\n",
    "        \n",
    "    except:pass\n",
    "    \n",
    "    try:\n",
    "        df_aportan = below_vertical[(below_vertical['Xi'].values==Nodo[0])]\n",
    "        aportan.append(df_aportan)\n",
    "        \n",
    "        columns.append(['i', int(df_aportan['N'].values), int(df_aportan['Nodo i'].values), int(df_aportan['Nodo j'].values)])\n",
    "    except:pass\n",
    "    \n",
    "    return columns"
   ]
  },
  {
   "cell_type": "code",
   "execution_count": 3,
   "metadata": {},
   "outputs": [],
   "source": [
    "def enumerar(vector, df):\n",
    "    global horizontal, vertical, NivelHorizontal, NivelVertical\n",
    "    #print('Horizontal')\n",
    "    C = 1\n",
    "    horizontal = []\n",
    "    for _, esto in sorted(pd.DataFrame(vector).groupby(1), reverse=True):  # to_concat\n",
    "        if _!=0:\n",
    "            esto.index.name = \"Nivel %d\"%_\n",
    "            esto = esto.sort_values(0)\n",
    "            esto[2] = [[np.nan]] + [[i, j] for i, j in zip(esto[0].values[:-1], esto[0].values[1:])]\n",
    "            tmp = [np.nan]\n",
    "            for i in range(len(esto)-1):\n",
    "                tmp.append(C)\n",
    "                C += 1\n",
    "            esto[3] = tmp\n",
    "            esto = esto.dropna()\n",
    "            esto[3] = esto[3].astype(int)\n",
    "            esto[4] = np.zeros(len(esto))*np.nan\n",
    "            for _, i in esto.iterrows():\n",
    "                esto.loc[_, 4] = df[(df[0]==i[0])&(df[1]==i[1])][2].values\n",
    "            esto[4] = esto[4].astype(int)\n",
    "            esto[5] = esto[4].values - 1\n",
    "            esto.columns = ['Xj', 'Yj', 'InicioFin', 'N', 'Nodo j', 'Nodo i']\n",
    "            #print(esto, '\\n')\n",
    "            horizontal.append(esto)\n",
    "\n",
    "    NivelHorizontal = np.array([i.index.name for i in horizontal])\n",
    "    #print('Vertical')\n",
    "\n",
    "    to_concat = []\n",
    "    for _, esto in pd.DataFrame(vector).groupby(0):  # Vertical\n",
    "        esto = esto.sort_values(1)\n",
    "        esto[4] = [np.nan] + [i for i, j in zip(esto[1].values[:-1], esto[1].values[1:])]\n",
    "        esto[2] = [np.nan] + [[i, j] for i, j in zip(esto[1].values[:-1], esto[1].values[1:])]\n",
    "        to_concat.append(esto.dropna())\n",
    "\n",
    "    vertical = []\n",
    "    for _, esto in sorted(pd.concat(to_concat).groupby(4), reverse=True):\n",
    "        del esto[4]\n",
    "        esto.index.name = \"Nivel %d\"%_\n",
    "        esto = esto.sort_values(0)\n",
    "        tmp = []\n",
    "        for i in range(len(esto)):\n",
    "            tmp.append(C)\n",
    "            C += 1\n",
    "        esto[3] = tmp\n",
    "        esto[4] = np.zeros(len(esto))*np.nan\n",
    "        esto[5] = np.zeros(len(esto))*np.nan\n",
    "        for _, i in esto.iterrows():\n",
    "            esto.loc[_, 4] = df[(df[0]==i[0])&(df[1]==i[1])][2].values\n",
    "            esto.loc[_, 5] = df[(df[0]==i[0])&(df[1]==i[1]-1)][2].values\n",
    "        esto[4] = esto[4].astype(int)\n",
    "        esto[5] = esto[5].astype(int)\n",
    "        esto.columns = ['Xi', 'Yi', 'InicioFin', 'N', 'Nodo i', 'Nodo j']\n",
    "        #print(esto, '\\n')\n",
    "        vertical.append(esto)\n",
    "    NivelVertical = np.array([i.index.name for i in vertical])"
   ]
  },
  {
   "cell_type": "code",
   "execution_count": 4,
   "metadata": {},
   "outputs": [],
   "source": [
    "class Edificio:\n",
    "    def __init__(self, Lc, luces, hc, bc, hv, bv, Ec, Ev, alphac,alphav, pisos):\n",
    "        self.Lc = Lc\n",
    "        self.hc = hc\n",
    "        self.bc = bc\n",
    "        self.hv = hv\n",
    "        self.bv = bv\n",
    "        self.Ac = hc * bc\n",
    "        self.Av = hv * bv\n",
    "        self.Ic = bc * (hc**3) / 12\n",
    "        self.Iv = bv * (hv**3) / 12\n",
    "        self.Ec = Ec\n",
    "        self.Ev = Ev\n",
    "        self.pisos = pisos\n",
    "        self.alphav = radians(alphav)\n",
    "        self.alphac = radians(alphac)\n",
    "        self.luces = dict(zip(('x', 'y'), luces))   \n",
    "        self.xy_columnas = {}\n",
    "        self.condensadas = {}\n",
    "        \n",
    "    def calc_lambda(self, alpha):\n",
    "        \"\"\"\n",
    "        Calcula la matriz de rotación para el ángulo especificado\n",
    "        \"\"\"\n",
    "        self.lamb = array([[ cos(alpha), sin(alpha), 0],\n",
    "                           [-sin(alpha), cos(alpha), 0],\n",
    "                           [     0     ,     0     , 1]])\n",
    "        return self.lamb\n",
    "\n",
    "    def calc_local(self, A, I, L, E):\n",
    "        \"\"\"\n",
    "        Calcula la matriz de rigidez local para las propiedades geométricas y del material A,I,L,E\n",
    "        \"\"\"\n",
    "        local = array([[ A*E/L,      0       ,      0       ,-A*E/L,      0       ,      0       ],\n",
    "                       [   0  , 12*E*I/(L**3), 6*E*I/(L**2) ,   0  ,-12*E*I/(L**3),  6*E*I/(L**2)],\n",
    "                       [   0  ,  6*E*I/(L**2),   4*E*I/L    ,   0  , -6*E*I/(L**2),   2*E*I/L    ],\n",
    "                       [-A*E/L,      0       ,      0       , A*E/L,      0       ,      0       ],\n",
    "                       [   0  ,-12*E*I/(L**3), -6*E*I/(L**2),   0  , 12*E*I/(L**3), -6*E*I/(L**2)],\n",
    "                       [   0  ,  6*E*I/(L**2),   2*E*I/L    ,   0  , -6*E*I/(L**2),   4*E*I/L    ]])\n",
    "        return local\n",
    "    \n",
    "    def calc_global(self, lamb, local):\n",
    "        \"\"\"\n",
    "        Calcula la matriz global a partir de la rotación de la matriz local con la matriz lambda\n",
    "        \"\"\"\n",
    "        Global = np.zeros((6, 6))  # Matriz de Rigidez en coordenadas globales\n",
    "        Global[:3,:3] = lamb.dot(local[:3, :3]).dot(lamb.T)\n",
    "        Global[:3,3:6] = lamb.dot(local[:3, 3:6]).dot(lamb.T)\n",
    "        Global[3:6,3:6] = lamb.dot(local[3:6,3:6]).dot(lamb.T)\n",
    "        Global[3:6,:3] = lamb.dot(local[3:6,:3]).dot(lamb.T)\n",
    "        return Global\n",
    "\n",
    "    def local(self):\n",
    "        \"\"\"\n",
    "        Obtiene las matrices locales para columnas y vigas\n",
    "        \"\"\"\n",
    "        self.localv = self.calc_local(self.Av, self.Iv, self.Lv, self.Ev)\n",
    "        self.localc = self.calc_local(self.Ac, self.Ic, self.Lc, self.Ec)\n",
    "        return self.localc, self.localv\n",
    "    \n",
    "    def Global(self):\n",
    "        \"\"\"\n",
    "        Obtiene las matrices globales para los elementos columnas y vigas\n",
    "        \"\"\"\n",
    "        self.local()\n",
    "        self.globalv = self.calc_global(self.calc_lambda(self.alphav),self.localv)\n",
    "        self.globalc = self.calc_global(self.calc_lambda(self.alphac),self.localc)\n",
    "        return self.globalc, self.globalv\n",
    "    \n",
    "    def ensamblar_texto(self, vector, columnas, direccion):\n",
    "        \"\"\"\n",
    "        Código más robusto para calcular los aportes de elementos a nodos y mostrarlos en formato latex.\n",
    "        \"\"\"\n",
    "        self.direccion = direccion\n",
    "        self.xy_columnas[direccion.lower()] = columnas\n",
    "        self.Lv = self.luces[direccion.lower()]\n",
    "        self.columnas = columnas\n",
    "        df = pd.DataFrame(vector).sort_values(0)\n",
    "        df = df.sort_values(1, ascending=False)\n",
    "        df[0] = list(range(self.columnas)) * 6\n",
    "        df[2] = list(range(1,len(df)+1))\n",
    "        enumerar(vector, df)\n",
    "        formulas = []\n",
    "        for i in df.values:\n",
    "            expresion = ('$P_{%s}$ = '%i[2] + ' + '.join(['$f^{%s}_{%s}$'%(i[1], i[0]) for i in aportan_a_nodo(i[:2])]) \n",
    "                  + ' = ' + ' + '.join(['$k^{%s}_{%si}U_{%s} + k^{%s}_{%sj}U_{%s}$'%(i[1], i[0], i[2], i[1], i[0], i[3]) \n",
    "                                        for i in aportan_a_nodo(i[:2])])+'\\n')\n",
    "            #print(expresion)\n",
    "            formulas.append(expresion)\n",
    "\n",
    "        matriz = np.zeros((len(formulas), len(formulas))).tolist()\n",
    "        c = 0\n",
    "        for i in range(len(formulas)):\n",
    "            for j in range(len(formulas)):\n",
    "                matriz[i][j] = ' + '.join([r'$'+k.strip(r\"'U_{%s}$'\"%(j+1))+r'}$' for k in formulas[c].split() if 'U_{%s}'%(j+1) in k])\n",
    "            c += 1\n",
    "        self.ensamblada_texto = pd.DataFrame(matriz)\n",
    "        return self.ensamblada_texto\n",
    "    \n",
    "    def ensamblar(self):\n",
    "        \"\"\"\n",
    "        A partir de la matriz ensamblada calculada arriba, obtiene numéricamente los valores\n",
    "        \"\"\"\n",
    "        m = self.ensamblada_texto\n",
    "        ensamblada = np.zeros(np.array(m.shape)*3)\n",
    "        aux_dic = {'ii':[slice(0, 3), slice(0, 3)], 'ij':[slice(0, 3), slice(3, 6)], 'ji':[slice(3, 6), slice(0, 3)], 'jj':[slice(3, 6), slice(3, 6)]}\n",
    "        for idx in range(m.shape[0]):\n",
    "            for idy in range(m.shape[1]):\n",
    "                ijs = regex.sub('', m[idy][idx]).split('k')[1:]\n",
    "                c = 0\n",
    "                for i in m[idy][idx].split(\"^\"):\n",
    "                    if '_' in i:\n",
    "                        for j in i.replace('{', '').replace('}', '').split('_'):\n",
    "                                try: # Entra entero - elemento\n",
    "                                    donde = [(int(j) in column['N'].values) for column in [pd.concat(horizontal, axis=0), pd.concat(vertical, axis=0)]]\n",
    "                                    if sum(donde)>=1:\n",
    "                                        ensamblada[3*idx:3*(idx+1),3*idy:3*(idy+1)] += self.globalv[aux_dic[ijs[c]][0],aux_dic[ijs[c]][1]] if donde[0] else self.globalc[aux_dic[ijs[c]][0],aux_dic[ijs[c]][1]]\n",
    "                                    c += 1\n",
    "\n",
    "                                except:pass \n",
    "        self.ensamblada = ensamblada\n",
    "        return self.ensamblada\n",
    "    \n",
    "    def condensar(self):\n",
    "        \"\"\"\n",
    "        Calculadas las matrices ensambladas se procede a condensar. Las suposiciones son básicas: los nodos de \n",
    "        cimentacion no tienen desplazamientos y el eje perperdicular al de estudio tampoco se desplaza.\n",
    "        \"\"\"\n",
    "        tmp = np.delete(self.ensamblada, list(range(1, self.ensamblada.shape[1], 3)), axis=1) # ys columnas\n",
    "        tmp = np.delete(tmp, list(range(1, tmp.shape[0], 3)), axis=0) # ys filas\n",
    "        tmp = np.delete(tmp, list(range(tmp.shape[0]-2*self.columnas, tmp.shape[0])), axis=0)  # 2 GDL * 6 columnas (columnas)\n",
    "        tmp = np.delete(tmp, list(range(tmp.shape[1]-2*self.columnas, tmp.shape[1])), axis=1)  # 2 GDL * 6 columnas (filas)\n",
    "\n",
    "        lista = []\n",
    "        for j in range(0, tmp.shape[1], 2*self.columnas):\n",
    "            for i in range(j, j+self.columnas*2, 2):\n",
    "                if i!=j:\n",
    "                    tmp[:,j] += tmp[:,i]\n",
    "                    lista.append(i)\n",
    "        tmp = np.delete(tmp,lista,  axis=1)\n",
    "        \n",
    "        lista = []\n",
    "        for j in range(0, tmp.shape[0], 2*self.columnas):\n",
    "            for i in range(j, j+self.columnas*2, 2):\n",
    "                if i!=j:\n",
    "                    tmp[j] += tmp[i]\n",
    "                    lista.append(i)\n",
    "        tmp = np.delete(tmp, lista,  axis=0)\n",
    "        \n",
    "        primeros5 = list(range(0, tmp.shape[0], self.columnas+1))\n",
    "        restantes = np.delete(list(range(tmp.shape[1])), primeros5)\n",
    "        tmp = tmp[np.r_[primeros5, restantes],:]\n",
    "        tmp = tmp[:, np.r_[primeros5, restantes]]\n",
    "\n",
    "        self.K0 = tmp[:self.pisos, :self.pisos]\n",
    "        self.K1 = tmp[:self.pisos, self.pisos:]\n",
    "        self.K2 = tmp[self.pisos:, :self.pisos]\n",
    "        self.K3 = tmp[self.pisos:, self.pisos:]\n",
    "\n",
    "        self.condensada = (self.K0 - self.K1.dot(np.linalg.inv(self.K3)).dot(self.K2))\n",
    "        self.condensadas[self.direccion] = self.condensada\n",
    "        return self.condensada\n",
    "    \n",
    "    def calc_masa(self, m, A):\n",
    "        \"\"\"\n",
    "        Calcula la matriz de masa\n",
    "        \"\"\"\n",
    "        self.last_local_masa = np.array([[       m*A          ,       0            ,                   -self.centroide['y']                                     ],\n",
    "                                         [         0          ,       m*A          ,                    self.centroide['x']                                     ],\n",
    "                                         [-self.centroide['y'], self.centroide['x'], (m*A)*self.Jo/A+(m*A)*(self.centroide['x']**2+self.centroide['y']**2)**0.5]])\n",
    "        return self.last_local_masa\n",
    "    \n",
    "    def Masa(self, m_piso, m_cubierta, centroide):\n",
    "        \"\"\"\n",
    "        Obtiene la matriz de masa\n",
    "        \"\"\"\n",
    "        self.X = self.luces['x'] * 5\n",
    "        self.Y = self.luces['y'] * 2\n",
    "        self.Ixx = 1/12 * self.X * self.Y**3\n",
    "        self.Iyy = 1/12 * self.Y * self.X**3\n",
    "        self.Jo = self.Ixx + self.Iyy\n",
    "        self.area_cubierta = self.X * self.Y\n",
    "        self.area_piso = self.X * self.Y\n",
    "        self.m_piso = m_piso # kg/m2\n",
    "        self.m_cubierta = m_cubierta  # kg/m2\n",
    "        self.centroide = centroide\n",
    "\n",
    "        self.masa = np.zeros((self.pisos*3, self.pisos*3))\n",
    "        for idx in range(self.pisos):\n",
    "            if idx!=0:\n",
    "                self.masa[3*idx:3*(idx+1),3*idx:3*(idx+1)] = self.calc_masa(self.m_piso, self.area_piso)\n",
    "            else:\n",
    "                self.masa[3*idx:3*(idx+1),3*idx:3*(idx+1)] = self.calc_masa(self.m_cubierta, self.area_cubierta)\n",
    "        self.masa = self.masa / 1000\n",
    "        return self.masa\n",
    "    \n",
    "    def transformacion(self):\n",
    "        self.centroide2 = dict(zip(('x', 'y'),(self.luces['x'] * (self.xy_columnas['x']-1)/2, self.luces['y'] * (self.xy_columnas['y']-1)/2)))\n",
    "        df = pd.DataFrame(index=[alphabet[i].upper() for i in range(self.xy_columnas['x'])]+[i for i in range(1, self.xy_columnas['y']+1)],\n",
    "                     columns=['TIPO', 'Xa', 'Ya', 'Xb', 'Yb', 'd', 'a', 'cos(a)', 'sen(a)']+['r%s'%i for i in range(1, self.pisos+1)])\n",
    "        df.index.name='EJE'\n",
    "        df.Xa = [i*self.luces['x'] for i in range(self.xy_columnas['x'])] + [0]*self.xy_columnas['y']\n",
    "        df.Ya = [0]*self.luces['x'] + [i*self.luces['y'] for i in sorted(range(self.xy_columnas['y']), reverse=True)]\n",
    "        df.Xb = [i*self.luces['x'] for i in range(self.xy_columnas['x'])] + [self.luces['x']*(self.xy_columnas['x']-1)]*self.xy_columnas['y']\n",
    "        df.Yb = [self.luces['y']*(self.xy_columnas['y']-1)]*self.luces['x'] + [i*self.luces['y'] for i in sorted(range(self.xy_columnas['y']), reverse=True)]\n",
    "        df.d = df.eval('((Xb-Xa)**2+(Yb-Ya)**2)**0.5')\n",
    "        df.a = self.xy_columnas['x']*[self.alphac] + self.xy_columnas['y']*[self.alphav]\n",
    "        df['cos(a)'] = df.eval('cos(a)')\n",
    "        df['sen(a)'] = df.eval('sin(a)')\n",
    "        for i in range(1, self.pisos+1):\n",
    "            exec(\"df['r%s'%i] = (self.centroide2['x']-df.Xa)*df['sen(a)'] + (self.centroide2['y'])*df['cos(a)']-df.Ya\")\n",
    "        matrices_transformacion = {}\n",
    "        self.rigidez = np.zeros((self.pisos*3, self.pisos*3))\n",
    "        for idx in df.index:\n",
    "            matrices_transformacion[idx] = pd.DataFrame(0,columns=list(sorted(range(1, self.pisos+1), reverse=True)),index=np.array([['F%sz'%i, 'F%sy'%i, 'F%sx'%i] for i in range(1, self.pisos+1)]).reshape(-1)[::-1])\n",
    "            for piso in sorted(range(1, self.pisos+1),reverse=True):\n",
    "                matrices_transformacion[idx].loc[['F%sx'%piso, 'F%sy'%piso, 'F%sz'%piso], piso] = df.loc[idx, ['cos(a)', 'sen(a)', 'r%s'%(piso)]].values\n",
    "            condensada = self.condensadas['x'] if str(idx).isnumeric() else self.condensadas['y']\n",
    "            matrices_transformacion[idx] = matrices_transformacion[idx].values.dot(condensada).dot(matrices_transformacion[idx].T.values)\n",
    "            self.rigidez = self.rigidez +  matrices_transformacion[idx]\n",
    "        return self.rigidez\n",
    "        "
   ]
  },
  {
   "cell_type": "markdown",
   "metadata": {},
   "source": [
    "# Ensamblada 58x58"
   ]
  },
  {
   "cell_type": "code",
   "execution_count": 5,
   "metadata": {},
   "outputs": [
    {
     "name": "stdout",
     "output_type": "stream",
     "text": [
      "Suma ensamblada:  11181361.607142858 \n",
      "Shape ensamblada:  (54, 54)\n",
      "Suma condensada:  111342.30536731819 \n",
      "Shapecondensada:  (5, 5)\n"
     ]
    },
    {
     "data": {
      "image/png": "[encoded data removed]",
      "text/plain": [
       "<Figure size 432x288 with 1 Axes>"
      ]
     },
     "metadata": {
      "needs_background": "light"
     },
     "output_type": "display_data"
    }
   ],
   "source": [
    "E = Edificio(3.2, (6, 7), 0.5, 0.5, 0.6, 0.5, 2.5e7, 2.5e7, 90, 0, 5)\n",
    "vector = np.array([[0, 0],[0, 1],[0, 2],[0, 3],[0, 4],[0, 5],[1, 0],[1, 1],[1, 2],[1, 3],[1, 4],[1, 5],[2, 0],[2, 1],[2, 2],\n",
    "                   [2, 3],[2, 4],[2, 5]])\n",
    "# vector = np.array([[0, 0],[0, 1],[0, 2],[0, 3],[0, 4],[0, 5],[1, 0],[1, 1],[1, 2],[1, 3],[1, 4],[1, 5],[2, 0],[2, 1],[2, 2],\n",
    "#                    [2, 3],[2, 4],[2, 5],[3, 0],[3, 1],[3, 2],[3, 3],[3, 4],[3, 5],[4, 0],[4, 1],[4, 2],[4, 3],[4, 4],[4, 5],\n",
    "#                    [5, 0],[5, 1],[5, 2],[5, 3],[5, 4],[5, 5]])\n",
    "plt.plot(vector[:,0], vector[:,1], '*')\n",
    "m = E.ensamblar_texto(vector, 3, 'y')\n",
    "E.Global();\n",
    "E.ensamblar()\n",
    "print('Suma ensamblada: ',E.ensamblada.sum(), '\\nShape ensamblada: ',  E.ensamblada.shape)\n",
    "E.condensar()\n",
    "print('Suma condensada: ',E.condensada.sum(), '\\nShapecondensada: ', E.condensada.shape)"
   ]
  },
  {
   "cell_type": "markdown",
   "metadata": {},
   "source": [
    "# Ensamblada 108x108"
   ]
  },
  {
   "cell_type": "code",
   "execution_count": 6,
   "metadata": {},
   "outputs": [
    {
     "name": "stdout",
     "output_type": "stream",
     "text": [
      "Suma ensamblada:  25898437.499999993 \n",
      "Shape ensamblada:  (108, 108)\n",
      "Suma condensada:  233719.93753420585 \n",
      "Shapecondensada:  (5, 5)\n"
     ]
    },
    {
     "data": {
      "image/png": "[encoded data removed]",
      "text/plain": [
       "<Figure size 432x288 with 1 Axes>"
      ]
     },
     "metadata": {
      "needs_background": "light"
     },
     "output_type": "display_data"
    }
   ],
   "source": [
    "vector = np.array([[0, 0],[0, 1],[0, 2],[0, 3],[0, 4],[0, 5],[1, 0],[1, 1],[1, 2],[1, 3],[1, 4],[1, 5],[2, 0],[2, 1],[2, 2],\n",
    "                   [2, 3],[2, 4],[2, 5],[3, 0],[3, 1],[3, 2],[3, 3],[3, 4],[3, 5],[4, 0],[4, 1],[4, 2],[4, 3],[4, 4],[4, 5],\n",
    "                   [5, 0],[5, 1],[5, 2],[5, 3],[5, 4],[5, 5]])\n",
    "plt.plot(vector[:,0], vector[:,1], '*')\n",
    "m = E.ensamblar_texto(vector, 6, 'x')\n",
    "E.Global();\n",
    "E.ensamblar()\n",
    "print('Suma ensamblada: ',E.ensamblada.sum(), '\\nShape ensamblada: ',  E.ensamblada.shape)\n",
    "E.condensar()\n",
    "print('Suma condensada: ',E.condensada.sum(), '\\nShapecondensada: ', E.condensada.shape)"
   ]
  },
  {
   "cell_type": "markdown",
   "metadata": {},
   "source": [
    "# Matriz de Masa"
   ]
  },
  {
   "cell_type": "code",
   "execution_count": 94,
   "metadata": {},
   "outputs": [
    {
     "name": "stdout",
     "output_type": "stream",
     "text": [
      "Suma masa:  258720.0 \n",
      "Shape masa:  (15, 15)\n"
     ]
    }
   ],
   "source": [
    "E.Masa(1500, 600, dict(zip(('x', 'y'),(0, 0))))\n",
    "E.masa.sum()\n",
    "print('Suma masa: ',E.masa.sum(), '\\nShape masa: ', E.masa.shape)"
   ]
  },
  {
   "cell_type": "markdown",
   "metadata": {},
   "source": [
    "# Matriz de Transformación"
   ]
  },
  {
   "cell_type": "code",
   "execution_count": 95,
   "metadata": {},
   "outputs": [
    {
     "name": "stdout",
     "output_type": "stream",
     "text": [
      "Suma rigidez:  94419419.90456918 \n",
      "Shape rigidez:  (15, 15)\n"
     ]
    }
   ],
   "source": [
    "E.transformacion()\n",
    "print('Suma rigidez: ',E.rigidez.sum(), '\\nShape rigidez: ', E.rigidez.shape)"
   ]
  },
  {
   "cell_type": "code",
   "execution_count": 96,
   "metadata": {},
   "outputs": [],
   "source": [
    "self = E"
   ]
  },
  {
   "cell_type": "code",
   "execution_count": 97,
   "metadata": {},
   "outputs": [
    {
     "data": {
      "text/plain": [
       "-0.2857495963475858"
      ]
     },
     "execution_count": 97,
     "metadata": {},
     "output_type": "execute_result"
    }
   ],
   "source": [
    "eigvalues, phi  = np.linalg.eig(np.linalg.inv(self.masa).dot(self.rigidez.astype(float)))\n",
    "phi.sum()"
   ]
  },
  {
   "cell_type": "code",
   "execution_count": 98,
   "metadata": {},
   "outputs": [],
   "source": [
    "phi = phi[:, pd.DataFrame(eigvalues, columns=['values']).sort_values('values').index]\n",
    "eigvalues = eigvalues[pd.DataFrame(eigvalues, columns=['values']).sort_values('values').index]\n",
    "omega = eigvalues ** 0.5"
   ]
  },
  {
   "cell_type": "markdown",
   "metadata": {},
   "source": [
    "### Normalizamos los vectores propios con respecto a la masa"
   ]
  },
  {
   "cell_type": "code",
   "execution_count": 99,
   "metadata": {},
   "outputs": [],
   "source": [
    "for i in range(len(phi)):\n",
    "    phi[:, i] = 1/(phi[:, i].T .dot(self.masa) .dot(phi[:, i]))**0.5 * phi[:, i]"
   ]
  },
  {
   "cell_type": "markdown",
   "metadata": {},
   "source": [
    "### Comprobamos que todo marche bien"
   ]
  },
  {
   "cell_type": "code",
   "execution_count": 100,
   "metadata": {},
   "outputs": [],
   "source": [
    "self.comprobacion1 = pd.DataFrame(phi.T .dot(self.masa).dot(phi).round(5))\n",
    "self.comprobacion2 = pd.DataFrame(phi.T .dot(self.rigidez.astype(float)).dot(phi))"
   ]
  },
  {
   "cell_type": "code",
   "execution_count": null,
   "metadata": {},
   "outputs": [],
   "source": []
  },
  {
   "cell_type": "markdown",
   "metadata": {},
   "source": [
    "# Modos de Vibracion"
   ]
  },
  {
   "cell_type": "code",
   "execution_count": 101,
   "metadata": {},
   "outputs": [],
   "source": [
    "import scipy.interpolate "
   ]
  },
  {
   "cell_type": "code",
   "execution_count": 120,
   "metadata": {},
   "outputs": [
    {
     "data": {
      "text/plain": [
       "<matplotlib.lines.Line2D at 0x209001f0>"
      ]
     },
     "execution_count": 120,
     "metadata": {},
     "output_type": "execute_result"
    },
    {
     "data": {
      "image/png": "[encoded data removed]",
      "text/plain": [
       "<Figure size 360x720 with 1 Axes>"
      ]
     },
     "metadata": {
      "needs_background": "light"
     },
     "output_type": "display_data"
    }
   ],
   "source": [
    "# en x\n",
    "modo = 2\n",
    "dire = 'x'\n",
    "dir_dic = dict(zip(('x', 'y', 'z'), (0,1, 2)))\n",
    "x = phi[:, dir_dic[dire]+3*(modo-1)][list(range(dir_dic[dire], len(phi), 3))]\n",
    "x = np.r_[[0], 1/x[0]*x[::-1]]\n",
    "y = list(range(self.pisos+1))\n",
    "y_smooth = np.linspace(0, self.pisos, 200)\n",
    "x_smooth = scipy.interpolate.interp1d(y, x, kind='cubic')\n",
    "\n",
    "\n",
    "plt.figure(figsize=(5, 10))\n",
    "plt.plot(x_smooth(y_smooth), y_smooth)\n",
    "plt.axvline(0)"
   ]
  },
  {
   "cell_type": "code",
   "execution_count": null,
   "metadata": {},
   "outputs": [],
   "source": []
  },
  {
   "cell_type": "code",
   "execution_count": null,
   "metadata": {},
   "outputs": [],
   "source": []
  },
  {
   "cell_type": "code",
   "execution_count": null,
   "metadata": {},
   "outputs": [],
   "source": []
  },
  {
   "cell_type": "code",
   "execution_count": null,
   "metadata": {},
   "outputs": [],
   "source": []
  }
 ],
 "metadata": {
  "kernelspec": {
   "display_name": "Python 3",
   "language": "python",
   "name": "python3"
  },
  "language_info": {
   "codemirror_mode": {
    "name": "ipython",
    "version": 3
   },
   "file_extension": ".py",
   "mimetype": "text/x-python",
   "name": "python",
   "nbconvert_exporter": "python",
   "pygments_lexer": "ipython3",
   "version": "3.7.4"
  }
 },
 "nbformat": 4,
 "nbformat_minor": 2
}
